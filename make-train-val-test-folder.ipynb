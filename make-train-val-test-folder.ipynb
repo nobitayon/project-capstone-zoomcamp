{
 "cells": [
  {
   "cell_type": "code",
   "execution_count": 53,
   "id": "7cbd683c",
   "metadata": {},
   "outputs": [],
   "source": [
    "import os\n",
    "import shutil"
   ]
  },
  {
   "cell_type": "code",
   "execution_count": 54,
   "id": "508bbf6c",
   "metadata": {},
   "outputs": [
    {
     "data": {
      "text/plain": [
       "'C:\\\\Users\\\\asus\\\\zoomcamp\\\\project-2\\\\glasses-or-no'"
      ]
     },
     "execution_count": 54,
     "metadata": {},
     "output_type": "execute_result"
    }
   ],
   "source": [
    "os.getcwd()"
   ]
  },
  {
   "cell_type": "code",
   "execution_count": 55,
   "id": "e8355dfe",
   "metadata": {},
   "outputs": [],
   "source": [
    "# create train , val , test folder .After that , create glass and no-glass subfolder in each train,val,test folder\n",
    "\n",
    "list_type = ['train','val','test']\n",
    "list_class = ['glass','no-glass']\n",
    "\n",
    "for i in range(3):\n",
    "    path = os.path.join(os.getcwd(),list_type[i])\n",
    "    os.mkdir(path)\n",
    "    \n",
    "for i in range(3):\n",
    "    for j in range(2):\n",
    "        path = os.path.join(os.getcwd(),list_type[i],list_class[j])\n",
    "        os.mkdir(path)\n",
    "\n"
   ]
  },
  {
   "cell_type": "code",
   "execution_count": 56,
   "id": "731debd3",
   "metadata": {},
   "outputs": [
    {
     "name": "stdout",
     "output_type": "stream",
     "text": [
      "Number of glasses image : 2769\n",
      "Number of no glasses image : 2151\n",
      "\n",
      "num glass train : 1938 \n",
      "num_no_glass_train : 1505\n",
      "num_glass_val : 415\n",
      "num_no_glass_val : 322\n",
      "num_glass_test : 416\n",
      "num_no_glass_test : 324\n"
     ]
    }
   ],
   "source": [
    "source = os.listdir(os.path.join( os.getcwd() ,\"glasses\" ))\n",
    "\n",
    "dest_glass_train = os.path.join( os.getcwd() ,\"train\" ,\"glass\" )\n",
    "dest_noglass_train = os.path.join( os.getcwd() ,\"train\" ,\"no-glass\" )\n",
    "\n",
    "dest_glass_val = os.path.join( os.getcwd() ,\"val\" ,\"glass\" )\n",
    "dest_noglass_val = os.path.join( os.getcwd() ,\"val\" ,\"no-glass\" )\n",
    "\n",
    "dest_glass_test = os.path.join( os.getcwd() ,\"test\" ,\"glass\" )\n",
    "dest_noglass_test = os.path.join( os.getcwd() ,\"test\" ,\"no-glass\" )\n",
    "\n",
    "no_glass = len(os.listdir(os.path.join(os.getcwd(),'glasses','no_glasses')))\n",
    "glass = len(os.listdir(os.path.join(os.getcwd(),'glasses','glasses')))\n",
    "print( f'Number of glasses image : {glass}')\n",
    "print( f'Number of no glasses image : {no_glass}')\n",
    "print('')\n",
    "# using 70 % of dataset as train , 15% as val , 15% as test\n",
    "\n",
    "num_glass_train = int(glass*0.7)\n",
    "num_no_glass_train =int(no_glass*0.7)\n",
    "\n",
    "num_glass_val = int(glass * 0.15)\n",
    "num_no_glass_val = int(no_glass * 0.15)\n",
    "\n",
    "num_glass_test = glass - num_glass_train - num_glass_val\n",
    "num_no_glass_test = no_glass - num_no_glass_train - num_no_glass_val\n",
    "\n",
    "print(f'num glass train : {num_glass_train} ')\n",
    "print(f'num_no_glass_train : {num_no_glass_train }')\n",
    "\n",
    "print(f'num_glass_val : {num_glass_val }')\n",
    "print(f'num_no_glass_val : {num_no_glass_val}' )\n",
    "\n",
    "print(f'num_glass_test : {num_glass_test}' )\n",
    "print(f'num_no_glass_test : {num_no_glass_test}')\n"
   ]
  },
  {
   "cell_type": "code",
   "execution_count": 57,
   "id": "988ae084",
   "metadata": {},
   "outputs": [],
   "source": [
    "# for class glass\n",
    "\n",
    "num = 1\n",
    "full_files = os.path.join(os.getcwd(),\"glasses\",\"glasses\")\n",
    "\n",
    "for i in os.listdir(full_files):\n",
    "\n",
    "    if(num<=num_glass_train):\n",
    "        shutil.copy(os.path.join(full_files,i),dest_glass_train)\n",
    "    elif(num>num_glass_train and num<=num_glass_train+num_glass_val):\n",
    "        shutil.copy(os.path.join(full_files,i),dest_glass_val)\n",
    "    else:\n",
    "        shutil.copy(os.path.join(full_files,i),dest_glass_test)\n",
    "    \n",
    "    num+=1\n",
    "\n",
    "num = 1\n",
    "full_files = os.path.join(os.getcwd(),\"glasses\",\"no_glasses\")\n",
    "\n",
    "for i in os.listdir(full_files):\n",
    "\n",
    "    if(num<=num_no_glass_train):\n",
    "        shutil.copy(os.path.join(full_files,i),dest_noglass_train)\n",
    "    elif(num>num_no_glass_train and num<=num_no_glass_train+num_no_glass_val):\n",
    "        shutil.copy(os.path.join(full_files,i),dest_noglass_val)\n",
    "    else:\n",
    "        shutil.copy(os.path.join(full_files,i),dest_noglass_test)\n",
    "    \n",
    "    num+=1\n"
   ]
  },
  {
   "cell_type": "code",
   "execution_count": null,
   "id": "67facf46",
   "metadata": {},
   "outputs": [],
   "source": []
  }
 ],
 "metadata": {
  "kernelspec": {
   "display_name": "Python 3 (ipykernel)",
   "language": "python",
   "name": "python3"
  },
  "language_info": {
   "codemirror_mode": {
    "name": "ipython",
    "version": 3
   },
   "file_extension": ".py",
   "mimetype": "text/x-python",
   "name": "python",
   "nbconvert_exporter": "python",
   "pygments_lexer": "ipython3",
   "version": "3.8.11"
  },
  "toc": {
   "base_numbering": 1,
   "nav_menu": {},
   "number_sections": true,
   "sideBar": true,
   "skip_h1_title": false,
   "title_cell": "Table of Contents",
   "title_sidebar": "Contents",
   "toc_cell": false,
   "toc_position": {},
   "toc_section_display": true,
   "toc_window_display": false
  }
 },
 "nbformat": 4,
 "nbformat_minor": 5
}
